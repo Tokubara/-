{
 "cells": [
  {
   "cell_type": "markdown",
   "metadata": {},
   "source": [
    "(1)生成矩阵A的函数为gernerateA.m，雅可比方法和G-S方法和SOR方法都写在一个函数就是solveIter.m中，mode=1对应雅可比，2对应G-S，3对应SOR(ω=1.25)。结果用3种方法求出来的都一样，而且与正确结果的无穷范数的差相差很多"
   ]
  },
  {
   "cell_type": "code",
   "execution_count": 25,
   "metadata": {},
   "outputs": [
    {
     "name": "stdout",
     "output_type": "stream",
     "text": [
      "\n",
      "ans =\n",
      "\n",
      "    0.9843\n",
      "\n",
      "\n",
      "ans =\n",
      "\n",
      "    0.9843\n",
      "\n",
      "\n",
      "ans =\n",
      "\n",
      "    0.9843\n",
      "\n"
     ]
    }
   ],
   "source": [
    "[A,b]=generateA(1,1/2,100);\n",
    "norm(solveIter(A,b,1)-A\\b,inf)\n",
    "norm(solveIter(A,b,2)-A\\b,inf)\n",
    "norm(solveIter(A,b,3)-A\\b,inf)"
   ]
  },
  {
   "cell_type": "markdown",
   "metadata": {},
   "source": [
    "(2)ε=0.1的时候如下"
   ]
  },
  {
   "cell_type": "code",
   "execution_count": 46,
   "metadata": {},
   "outputs": [
    {
     "name": "stdout",
     "output_type": "stream",
     "text": [
      "\n",
      "ans =\n",
      "\n",
      "   29.4786\n",
      "\n",
      "\n",
      "ans =\n",
      "\n",
      "    0.7712\n",
      "\n",
      "\n",
      "ans =\n",
      "\n",
      "    0.7119\n",
      "\n"
     ]
    }
   ],
   "source": [
    "clear generateA\n",
    "[A,b,correct]=generateA(0.1,1/2,100);\n",
    "norm(solveIter(A,b,1)-correct,inf)\n",
    "norm(solveIter(A,b,2)-A\\b,inf)\n",
    "norm(solveIter(A,b,3)-A\\b,inf)"
   ]
  },
  {
   "cell_type": "markdown",
   "metadata": {},
   "source": [
    "0.01的时候如下，相差不多，误差更大"
   ]
  },
  {
   "cell_type": "code",
   "execution_count": 44,
   "metadata": {},
   "outputs": [
    {
     "name": "stdout",
     "output_type": "stream",
     "text": [
      "\n",
      "ans =\n",
      "\n",
      "    0.4949\n",
      "\n",
      "\n",
      "ans =\n",
      "\n",
      "    0.4876\n",
      "\n",
      "\n",
      "ans =\n",
      "\n",
      "    0.4834\n",
      "\n"
     ]
    }
   ],
   "source": [
    "clear solveIter\n",
    "[A,b]=generateA(0.001,1/2,100);\n",
    "norm(solveIter(A,b,1,repelem(1,100)')-A\\b,inf)\n",
    "norm(solveIter(A,b,2)-A\\b,inf)\n",
    "norm(solveIter(A,b,3)-A\\b,inf)"
   ]
  },
  {
   "cell_type": "code",
   "execution_count": 47,
   "metadata": {},
   "outputs": [
    {
     "name": "stdout",
     "output_type": "stream",
     "text": [
      "\n",
      "correct =\n",
      "\n",
      "  Columns 1 through 7\n",
      "\n",
      "    0.0526    0.1006    0.1446    0.1848    0.2217    0.2556    0.2867\n",
      "\n",
      "  Columns 8 through 14\n",
      "\n",
      "    0.3153    0.3417    0.3661    0.3886    0.4094    0.4288    0.4467\n",
      "\n",
      "  Columns 15 through 21\n",
      "\n",
      "    0.4635    0.4791    0.4937    0.5074    0.5202    0.5324    0.5438\n",
      "\n",
      "  Columns 22 through 28\n",
      "\n",
      "    0.5546    0.5649    0.5747    0.5840    0.5929    0.6014    0.6096\n",
      "\n",
      "  Columns 29 through 35\n",
      "\n",
      "    0.6175    0.6251    0.6325    0.6396    0.6466    0.6533    0.6599\n",
      "\n",
      "  Columns 36 through 42\n",
      "\n",
      "    0.6664    0.6727    0.6788    0.6849    0.6909    0.6967    0.7025\n",
      "\n",
      "  Columns 43 through 49\n",
      "\n",
      "    0.7082    0.7139    0.7195    0.7250    0.7305    0.7359    0.7413\n",
      "\n",
      "  Columns 50 through 56\n",
      "\n",
      "    0.7467    0.7520    0.7573    0.7625    0.7678    0.7730    0.7782\n",
      "\n",
      "  Columns 57 through 63\n",
      "\n",
      "    0.7833    0.7885    0.7937    0.7988    0.8039    0.8090    0.8141\n",
      "\n",
      "  Columns 64 through 70\n",
      "\n",
      "    0.8192    0.8243    0.8293    0.8344    0.8395    0.8445    0.8496\n",
      "\n",
      "  Columns 71 through 77\n",
      "\n",
      "    0.8546    0.8596    0.8647    0.8697    0.8747    0.8798    0.8848\n",
      "\n",
      "  Columns 78 through 84\n",
      "\n",
      "    0.8898    0.8948    0.8999    0.9049    0.9099    0.9149    0.9199\n",
      "\n",
      "  Columns 85 through 91\n",
      "\n",
      "    0.9249    0.9299    0.9349    0.9399    0.9450    0.9500    0.9550\n",
      "\n",
      "  Columns 92 through 98\n",
      "\n",
      "    0.9600    0.9650    0.9700    0.9750    0.9800    0.9850    0.9900\n",
      "\n",
      "  Columns 99 through 100\n",
      "\n",
      "    0.9950    1.0000\n",
      "\n"
     ]
    }
   ],
   "source": [
    "correct"
   ]
  },
  {
   "cell_type": "code",
   "execution_count": null,
   "metadata": {},
   "outputs": [],
   "source": []
  }
 ],
 "metadata": {
  "kernelspec": {
   "display_name": "Matlab",
   "language": "matlab",
   "name": "matlab"
  },
  "language_info": {
   "codemirror_mode": "octave",
   "file_extension": ".m",
   "help_links": [
    {
     "text": "MetaKernel Magics",
     "url": "https://metakernel.readthedocs.io/en/latest/source/README.html"
    }
   ],
   "mimetype": "text/x-octave",
   "name": "matlab",
   "version": "0.16.9"
  }
 },
 "nbformat": 4,
 "nbformat_minor": 4
}
