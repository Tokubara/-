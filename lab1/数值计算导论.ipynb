{
 "cells": [
  {
   "cell_type": "markdown",
   "metadata": {},
   "source": [
    "## 上机题1"
   ]
  },
  {
   "cell_type": "code",
   "execution_count": 179,
   "metadata": {},
   "outputs": [
    {
     "data": {
      "image/png": "[encoded data removed]",
      "text/plain": [
       "<IPython.core.display.Image object>"
      ]
     },
     "metadata": {},
     "output_type": "display_data"
    }
   ],
   "source": [
    "format long\n",
    "eps=1E-16;\n",
    "M=1;\n",
    "h=logspace(-16,0,50);\n",
    "true=cos(1);\n",
    "round_err=2*eps./h;\n",
    "trunc_err=M*h/2;\n",
    "total_err=round_err+trunc_err;\n",
    "loglog(h,round_err,'--',h,trunc_err,'--',h,total_err,'--',h,abs(true-(sin(1+h)-sin(1))./h),'-')\n",
    "legend('舍入误差限','截断误差限','总误差限','真实误差')\n",
    "axis([1E-16 1 1E-17 1])"
   ]
  },
  {
   "cell_type": "markdown",
   "metadata": {},
   "source": [
    "从图中可以看到，截断误差和舍入误差的上限都是h的线性函数，截断误差上限随h增大而增大，舍入误差则随h增大而减小。而总误差限几乎与两个误差限较大者重合，这是很自然的，因为在非中间的区域，两个误差限差着数量级。而在中间两个误差限相等时，就出现了曲线。\n",
    "真实的误差，总是接近两条线中较大者。在中间取的最小值，大概最低点出现在h=10^-8^时，理论上是$2*10^{-8}$，与理论值很接近。因为是对数图)。\n",
    "我们注意到，在h<10^-8^，真实误差呈锯齿状(实际上是连续的，取点数的问题)，但是在h>10^-7^之后，真实误差与总误差线和截断误差限就非常接近了，几乎重合。出现这个区别(有锯齿和重合)的原因是，舍入误差并不确定，但是截断误差是比较确定的。"
   ]
  },
  {
   "cell_type": "markdown",
   "metadata": {},
   "source": [
    "## 上机题1.3"
   ]
  },
  {
   "cell_type": "markdown",
   "metadata": {},
   "source": [
    "### (1)"
   ]
  },
  {
   "cell_type": "code",
   "execution_count": 150,
   "metadata": {
    "scrolled": true
   },
   "outputs": [
    {
     "name": "stdout",
     "output_type": "stream",
     "text": [
      "\n",
      "s =\n",
      "\n",
      "  single\n",
      "\n",
      "  15.4036827\n",
      "\n",
      "\n",
      "ans =\n",
      "\n",
      "     2097152\n",
      "\n"
     ]
    }
   ],
   "source": [
    "last_s=-1;\n",
    "s=single(0);\n",
    "for(i = 1:10000000)\n",
    "    if(abs(last_s-s)<eps),break;end\n",
    "    last_s=s;\n",
    "    s=s+1/i;\n",
    "end\n",
    "s\n",
    "i-1 %循环进行到下一次的"
   ]
  },
  {
   "cell_type": "markdown",
   "metadata": {},
   "source": [
    "因此，当n=2097152时，就不再发生变化。与理论分析对比：小数/大数<ε/2时，小数就对大数不起作用。这里是单精度，并且浮点数是就近存储的，因此机器精度ε=2^-24^，而1/2097152/15<2^-24^，因此不起作用。\n",
    "另一种分析方式是，2097152=2^21^，它的二进制表示，会是0.(20个0)1，加上它的时候，和的整数部分是15，那么这一部分会占据4个位数，单精度总共有24个(23+1)位，因此最后的1已经不在这24位的范围中了。但是比它略大的数，比如1/(n-1)，也是前20位都为0，它们却能被加上，这让我感到困惑。"
   ]
  },
  {
   "cell_type": "code",
   "execution_count": 173,
   "metadata": {
    "scrolled": true
   },
   "outputs": [
    {
     "name": "stdout",
     "output_type": "stream",
     "text": [
      "\n",
      "ans =\n",
      "\n",
      "  logical\n",
      "\n",
      "   1\n",
      "\n"
     ]
    }
   ],
   "source": [
    "1/2097152/15<2^(-24)"
   ]
  },
  {
   "cell_type": "code",
   "execution_count": 160,
   "metadata": {},
   "outputs": [
    {
     "name": "stdout",
     "output_type": "stream",
     "text": [
      "\n",
      "ans =\n",
      "\n",
      "    21\n",
      "\n"
     ]
    }
   ],
   "source": [
    "log2(2097152)"
   ]
  },
  {
   "cell_type": "markdown",
   "metadata": {},
   "source": [
    "在下面，我们用大数/小数=1/ε解方程，得到了非常接近的结果"
   ]
  },
  {
   "cell_type": "code",
   "execution_count": 156,
   "metadata": {
    "scrolled": true
   },
   "outputs": [
    {
     "name": "stdout",
     "output_type": "stream",
     "text": [
      "\n",
      "s_ =\n",
      "\n",
      "  single\n",
      "\n",
      "  15.4036827\n",
      "\n",
      "\n",
      "j =\n",
      "\n",
      "     2178338\n",
      "\n"
     ]
    }
   ],
   "source": [
    "s_=single(0);\n",
    "for(j=1:10000000)\n",
    "    s_=s_+1/j;\n",
    "if(2^25/(j+1)<s_)\n",
    "    break\n",
    "    end\n",
    "end\n",
    "s_\n",
    "j"
   ]
  },
  {
   "cell_type": "markdown",
   "metadata": {},
   "source": [
    "### (2)"
   ]
  },
  {
   "cell_type": "code",
   "execution_count": 163,
   "metadata": {},
   "outputs": [
    {
     "name": "stdout",
     "output_type": "stream",
     "text": [
      "\n",
      "double_s =\n",
      "\n",
      "  15.133306695078227\n",
      "\n"
     ]
    }
   ],
   "source": [
    "double_s=sum(1./(1:(i-1)))"
   ]
  },
  {
   "cell_type": "markdown",
   "metadata": {},
   "source": [
    "对比15.4036827，发现只有2位有效数字，绝对误差和相对误差如下:"
   ]
  },
  {
   "cell_type": "code",
   "execution_count": 166,
   "metadata": {},
   "outputs": [
    {
     "name": "stdout",
     "output_type": "stream",
     "text": [
      "\n",
      "ans =\n",
      "\n",
      "  -0.270376013662007\n",
      "\n",
      "\n",
      "ans =\n",
      "\n",
      "  -0.017552686508441\n",
      "\n"
     ]
    }
   ],
   "source": [
    "double_s-double(s)\n",
    "(double_s-double(s))/double(s)"
   ]
  },
  {
   "cell_type": "markdown",
   "metadata": {},
   "source": [
    "### (3)"
   ]
  },
  {
   "cell_type": "markdown",
   "metadata": {},
   "source": [
    "对调和级数，当n->inf时，约为ln(n)，解下式：1/(nln(n))<ε/2，其中ε=2^-53^，从而要解nln(n)>2^54"
   ]
  },
  {
   "cell_type": "code",
   "execution_count": 169,
   "metadata": {},
   "outputs": [
    {
     "name": "stdout",
     "output_type": "stream",
     "text": [
      " \n",
      "ans =\n",
      " \n",
      "531298735014385.54168024471180628\n",
      " \n"
     ]
    }
   ],
   "source": [
    "syms x\n",
    "vpa(solve(x*log(x)==2^54))"
   ]
  },
  {
   "cell_type": "markdown",
   "metadata": {},
   "source": [
    "也就是要进行5.312987e+14次加法，对前面的时间进行测试"
   ]
  },
  {
   "cell_type": "code",
   "execution_count": 170,
   "metadata": {},
   "outputs": [
    {
     "name": "stdout",
     "output_type": "stream",
     "text": [
      "Elapsed time is 0.037388 seconds.\n"
     ]
    }
   ],
   "source": [
    "s_=single(0);\n",
    "tic\n",
    "for(j=1:10000000)\n",
    "    s_=s_+1/j;\n",
    "if(2^25/(j+1)<s_)\n",
    "    break\n",
    "    end\n",
    "end\n",
    "toc"
   ]
  },
  {
   "cell_type": "code",
   "execution_count": 172,
   "metadata": {},
   "outputs": [
    {
     "name": "stdout",
     "output_type": "stream",
     "text": [
      "\n",
      "ans =\n",
      "\n",
      "   3.654315846128228\n",
      "\n"
     ]
    }
   ],
   "source": [
    "5.312987E14/2097152*0.037388/24/3600/30"
   ]
  },
  {
   "cell_type": "markdown",
   "metadata": {},
   "source": [
    "因此如果用前面的程序，大概3个多月能得出来"
   ]
  }
 ],
 "metadata": {
  "kernelspec": {
   "display_name": "Matlab [conda env:pymatlab_3_6] *",
   "language": "matlab",
   "name": "conda-env-pymatlab_3_6-matlab"
  },
  "language_info": {
   "codemirror_mode": "octave",
   "file_extension": ".m",
   "help_links": [
    {
     "text": "MetaKernel Magics",
     "url": "https://metakernel.readthedocs.io/en/latest/source/README.html"
    }
   ],
   "mimetype": "text/x-octave",
   "name": "matlab",
   "version": "0.16.9"
  }
 },
 "nbformat": 4,
 "nbformat_minor": 4
}
