{
 "cells": [
  {
   "cell_type": "markdown",
   "metadata": {},
   "source": [
    "hilb矩阵的生成见hilbMatrix.m，cholesky分解见cholesky.m，解方程Ax=b见solveSPD.m，它依赖的两个文件是solveL.m与solveU.m，题目部分用来生成r和$\\Delta x$的无穷范数的文件是lab3.m"
   ]
  },
  {
   "cell_type": "markdown",
   "metadata": {},
   "source": [
    "## (1)"
   ]
  },
  {
   "cell_type": "markdown",
   "metadata": {},
   "source": [
    "r的无穷范数是下面的d1，$\\Delta x$的无穷范数是下面的d2，前向误差非常小，后向误差相比前向误差比较大，但还可以"
   ]
  },
  {
   "cell_type": "code",
   "execution_count": 2,
   "metadata": {},
   "outputs": [
    {
     "name": "stdout",
     "output_type": "stream",
     "text": [
      "\n",
      "d1 =\n",
      "\n",
      "   4.4409e-16\n",
      "\n",
      "\n",
      "d2 =\n",
      "\n",
      "   4.2479e-04\n",
      "\n"
     ]
    }
   ],
   "source": [
    "[d1,d2]=lab3(10)"
   ]
  },
  {
   "cell_type": "markdown",
   "metadata": {},
   "source": [
    "## (2)"
   ]
  },
  {
   "cell_type": "markdown",
   "metadata": {},
   "source": [
    "需要lab3的第二个参数——扰动参数，结果如下，虽然前向误差非常小，但是后向误差明显增大了很多"
   ]
  },
  {
   "cell_type": "code",
   "execution_count": 5,
   "metadata": {},
   "outputs": [
    {
     "name": "stdout",
     "output_type": "stream",
     "text": [
      "\n",
      "d1 =\n",
      "\n",
      "   2.2204e-16\n",
      "\n",
      "\n",
      "d2 =\n",
      "\n",
      "    0.7007\n",
      "\n"
     ]
    }
   ],
   "source": [
    "[d1,d2]=lab3(10,1E-7)"
   ]
  },
  {
   "cell_type": "markdown",
   "metadata": {},
   "source": [
    "## (3)"
   ]
  },
  {
   "cell_type": "markdown",
   "metadata": {},
   "source": [
    "8和12对应的结果如下，说明n越大，后向误差越大，而且变化相当剧烈，n=8的时候，后向误差还非常小，n=12的时候，后向误差已经很可观了"
   ]
  },
  {
   "cell_type": "code",
   "execution_count": 7,
   "metadata": {
    "scrolled": false
   },
   "outputs": [
    {
     "name": "stdout",
     "output_type": "stream",
     "text": [
      "\n",
      "d1 =\n",
      "\n",
      "   4.4409e-16\n",
      "\n",
      "\n",
      "d2 =\n",
      "\n",
      "   4.0064e-07\n",
      "\n",
      "\n",
      "d1 =\n",
      "\n",
      "   4.4409e-16\n",
      "\n",
      "\n",
      "d2 =\n",
      "\n",
      "    0.3652\n",
      "\n"
     ]
    }
   ],
   "source": [
    "[d1,d2]=lab3(8)\n",
    "[d1,d2]=lab3(12)"
   ]
  },
  {
   "cell_type": "markdown",
   "metadata": {},
   "source": [
    "来看看这几个Hilbert矩阵的条件数，可以看到，条件数随着n增大迅速增大，当m=12，已经警告说接近于奇异矩阵"
   ]
  },
  {
   "cell_type": "code",
   "execution_count": 2,
   "metadata": {
    "scrolled": true
   },
   "outputs": [
    {
     "name": "stdout",
     "output_type": "stream",
     "text": [
      "\n",
      "ans =\n",
      "\n",
      "   3.3873e+10\n",
      "\n",
      "\n",
      "ans =\n",
      "\n",
      "   3.5354e+13\n",
      "\n",
      "Warning: Matrix is close to singular or badly scaled. Results may be inaccurate. RCOND =  2.533441e-17.\n",
      "> In cond (line 46)\n",
      "\n",
      "ans =\n",
      "\n",
      "   3.9473e+16\n",
      "\n"
     ]
    }
   ],
   "source": [
    "cond(hilbMatrix(8),inf)\n",
    "cond(hilbMatrix(10),inf)\n",
    "cond(hilbMatrix(12),inf)"
   ]
  }
 ],
 "metadata": {
  "kernelspec": {
   "display_name": "Matlab",
   "language": "matlab",
   "name": "matlab"
  },
  "language_info": {
   "codemirror_mode": "octave",
   "file_extension": ".m",
   "help_links": [
    {
     "text": "MetaKernel Magics",
     "url": "https://metakernel.readthedocs.io/en/latest/source/README.html"
    }
   ],
   "mimetype": "text/x-octave",
   "name": "matlab",
   "version": "0.16.9"
  }
 },
 "nbformat": 4,
 "nbformat_minor": 4
}
